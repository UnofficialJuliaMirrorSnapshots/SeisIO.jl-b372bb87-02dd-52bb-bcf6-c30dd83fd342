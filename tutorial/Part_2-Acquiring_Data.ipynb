{
 "cells": [
  {
   "cell_type": "markdown",
   "metadata": {},
   "source": [
    "# 2. **Data Acquisition**\n",
    "In this tutorial, we'll explain how to read and download data."
   ]
  },
  {
   "cell_type": "code",
   "execution_count": null,
   "metadata": {},
   "outputs": [],
   "source": [
    "using SeisIO"
   ]
  },
  {
   "cell_type": "markdown",
   "metadata": {},
   "source": [
    "## **Loading Files**\n",
    "`read_data` reads one or more entire files into memory:"
   ]
  },
  {
   "cell_type": "code",
   "execution_count": null,
   "metadata": {},
   "outputs": [],
   "source": [
    "?read_data"
   ]
  },
  {
   "cell_type": "markdown",
   "metadata": {},
   "source": [
    "\\\n",
    "If you know the file format you're trying to read, pass\\\n",
    "it as the first argument to `read_data` in lowercase:"
   ]
  },
  {
   "cell_type": "code",
   "execution_count": null,
   "metadata": {},
   "outputs": [],
   "source": [
    "S = read_data(\"mseed\", \"DATA/2018.224.00.00.00.000.TA.C26K..BHZ.R.mseed\")"
   ]
  },
  {
   "cell_type": "code",
   "execution_count": null,
   "metadata": {},
   "outputs": [],
   "source": [
    "S = read_data(\"sac\", \"DATA/2018.224.00.00.00.000.TA.C26K..BHZ.R.SAC\")"
   ]
  },
  {
   "cell_type": "markdown",
   "metadata": {},
   "source": [
    "\\\n",
    "If you don't know a file's format, `read_data` calls a (somewhat slower)\\\n",
    "function called `guess`that can usually identify it:"
   ]
  },
  {
   "cell_type": "code",
   "execution_count": null,
   "metadata": {},
   "outputs": [],
   "source": [
    "S2 = read_data(\"DATA/2018.224.00.00.00.000.TA.C26K..BHZ.R.SAC\")"
   ]
  },
  {
   "cell_type": "code",
   "execution_count": null,
   "metadata": {},
   "outputs": [],
   "source": [
    "S == S2"
   ]
  },
  {
   "cell_type": "markdown",
   "metadata": {},
   "source": [
    "`read_data` accepts file string wildcards."
   ]
  },
  {
   "cell_type": "code",
   "execution_count": null,
   "metadata": {},
   "outputs": [],
   "source": [
    "path = dirname(pathof(SeisIO))*\"/../test/SampleFiles/SUDS/\"\n",
    "S = read_data(\"sac\", path * \"*.sac\")"
   ]
  },
  {
   "cell_type": "markdown",
   "metadata": {},
   "source": [
    "### File and Format Information (Optional Section)\n",
    "Information on files and formats can be found in a number of places,\\\n",
    "including the command-line interface."
   ]
  },
  {
   "cell_type": "code",
   "execution_count": null,
   "metadata": {},
   "outputs": [],
   "source": [
    "guess(\"DATA/2018.224.00.00.00.000.TA.C26K..BHZ.R.SAC\")"
   ]
  },
  {
   "cell_type": "code",
   "execution_count": null,
   "metadata": {},
   "outputs": [],
   "source": [
    "path = dirname(pathof(SeisIO))*\"/../test/SampleFiles/SUDS/\"\n",
    "fname = path * \"10081701.WVP\"\n",
    "g = guess(fname)"
   ]
  },
  {
   "cell_type": "code",
   "execution_count": null,
   "metadata": {},
   "outputs": [],
   "source": [
    "SeisIO.formats[g[1]] # what are we looking at...?"
   ]
  },
  {
   "cell_type": "code",
   "execution_count": null,
   "metadata": {},
   "outputs": [],
   "source": [
    "S = read_data(g[1], fname, swap = g[2])"
   ]
  },
  {
   "cell_type": "code",
   "execution_count": null,
   "metadata": {},
   "outputs": [],
   "source": [
    "# since volcano colleagues keep asking\n",
    "using SeisIO.SUDS\n",
    "suds_support()"
   ]
  },
  {
   "cell_type": "code",
   "execution_count": null,
   "metadata": {},
   "outputs": [],
   "source": [
    "# while I'm at it\n",
    "using SeisIO.SEED"
   ]
  },
  {
   "cell_type": "code",
   "execution_count": null,
   "metadata": {},
   "outputs": [],
   "source": [
    "?seed_support"
   ]
  },
  {
   "cell_type": "code",
   "execution_count": null,
   "metadata": {},
   "outputs": [],
   "source": [
    "?mseed_support"
   ]
  },
  {
   "cell_type": "markdown",
   "metadata": {},
   "source": [
    "...and knowing is half the battle."
   ]
  },
  {
   "cell_type": "markdown",
   "metadata": {},
   "source": [
    "## **Requesting Data Online**\n",
    "`get_data` is the wrapper to online time-series data requests.\\\n",
    "You can use it with FDSN dataselect and IRIS timeseries functions."
   ]
  },
  {
   "cell_type": "code",
   "execution_count": null,
   "metadata": {},
   "outputs": [],
   "source": [
    "?get_data"
   ]
  },
  {
   "cell_type": "markdown",
   "metadata": {},
   "source": [
    "\\\n",
    "**Let's try an example**.\\\n",
    "First, we'll get the current local time."
   ]
  },
  {
   "cell_type": "code",
   "execution_count": null,
   "metadata": {},
   "outputs": [],
   "source": [
    "using Dates\n",
    "ds = Dates.now(); ds -= (Day(1) + Millisecond(ds) + Second(ds))\n",
    "s = string(ds)"
   ]
  },
  {
   "cell_type": "markdown",
   "metadata": {},
   "source": [
    "Now, let's use that to request some data. From the help text,\\\n",
    "the keywords `s=` and `t=` accept Strings, DateTime objects,\\\n",
    "and numbers. So let's start at `s`, as defined above, and end\\\n",
    "at `t=600`, or 10 minutes later."
   ]
  },
  {
   "cell_type": "code",
   "execution_count": null,
   "metadata": {},
   "outputs": [],
   "source": [
    "S = get_data(\"FDSN\", \"UW.MBW..EHZ, UW.SHW..EHZ, UW.HSR..EHZ, UW.TDH..EHZ, CC.PALM..EH?\", src=\"IRIS\", s=s, t=600) "
   ]
  },
  {
   "cell_type": "markdown",
   "metadata": {},
   "source": [
    "#### **What each positional argument does**\n",
    "* \"FDSN\" tells get_data to use the FDSN dataselect service for our request\n",
    "* The long string of channels is our request.\n",
    "\n",
    "#### **What each keyword does**\n",
    "* `src=\"IRIS\"` tells get_data to check the IRIS FDSN dataselect server. Note that this is not the same as setting the first positional argument to \"IRIS\" (rather than \"FDSN): IRIS runs both FDSN dataselect and its own service.\n",
    "* `s=s` sets the start time to `s`, the string created in the cell above.\n",
    "* `t=600` sets the termination (end) time to 600 seconds after `s`."
   ]
  },
  {
   "cell_type": "markdown",
   "metadata": {},
   "source": [
    "\\\n",
    "...which channels were there today?"
   ]
  },
  {
   "cell_type": "code",
   "execution_count": null,
   "metadata": {},
   "outputs": [],
   "source": [
    "S.id"
   ]
  },
  {
   "cell_type": "markdown",
   "metadata": {},
   "source": [
    "\\\n",
    "Any sign of TDH? (It's a pleasant hike in summer, but winter outages happen...)"
   ]
  },
  {
   "cell_type": "code",
   "execution_count": null,
   "metadata": {},
   "outputs": [],
   "source": [
    "findid(\"UW.TDH..EHZ\", S)"
   ]
  },
  {
   "cell_type": "markdown",
   "metadata": {},
   "source": [
    "\\\n",
    "Where can we look for data? What servers are available?"
   ]
  },
  {
   "cell_type": "code",
   "execution_count": null,
   "metadata": {},
   "outputs": [],
   "source": [
    "?seis_www"
   ]
  },
  {
   "cell_type": "markdown",
   "metadata": {},
   "source": [
    "\\\n",
    "I bet that CalTech is happy to handle a random download request."
   ]
  },
  {
   "cell_type": "code",
   "execution_count": null,
   "metadata": {},
   "outputs": [],
   "source": [
    "S2 = get_data(\"FDSN\", \"CI.SDD..BHZ\", src=\"SCEDC\", s=s, t=600, fmt=\"mseed\", msr=true, w=true, demean=true, rr=true)"
   ]
  },
  {
   "cell_type": "markdown",
   "metadata": {},
   "source": [
    "#### **What the new keywords do:**\n",
    "* `src=\"SCEDC\"` tells `get_data` to use the SCEDC FDSN servers.\n",
    "* `fmt=\"mseed\"` specifies the data format for the download. (Note: mseed is actually the default, but including this keyword is useful for tutorial purposes.)\n",
    "* `w=true` write the download **directly** to disk, byte for byte, before any parsing happens. The file extension is always \".`fmt`\". The entire request is saved even if a parsing error happens -- which is rare, but possible with SEED. (Some Blockettes and data decoders are so rare that we've literally never seen them)\n",
    "* `demean=true` removes the mean of each channel after downloading.\n",
    "* `rr=true` removes the instrument response, flattening to DC.\n",
    "* `msr=true` uses the multi-stage instrument response. Most users don't need that much detail, so `msr` defaults to `false`.\n"
   ]
  },
  {
   "cell_type": "code",
   "execution_count": null,
   "metadata": {},
   "outputs": [],
   "source": [
    "S.resp[1]"
   ]
  },
  {
   "cell_type": "code",
   "execution_count": null,
   "metadata": {},
   "outputs": [],
   "source": [
    "S2.resp[1]"
   ]
  },
  {
   "cell_type": "markdown",
   "metadata": {},
   "source": [
    "## **Saving Data**\n",
    "Remember, from above: **data requests can be written directly to disk with keyword w=true**.\\\n",
    "In addition, SeisData and SeisChannel structures can be written to SAC or to SeisIO's native format.\\\n",
    "SAC has the advantage that it's almost universally readable; SeisIO format saves more information.\\\n",
    "\\\n",
    "To write to SAC:"
   ]
  },
  {
   "cell_type": "code",
   "execution_count": null,
   "metadata": {},
   "outputs": [],
   "source": [
    "writesac(S)                         # filenames are auto-generated. no need to specify.\n",
    "writesacpz(S, \"req_1.pz\")           # in case you need instrument responses later."
   ]
  },
  {
   "cell_type": "markdown",
   "metadata": {},
   "source": [
    "To write to SeisIO format:"
   ]
  },
  {
   "cell_type": "code",
   "execution_count": null,
   "metadata": {},
   "outputs": [],
   "source": [
    "wseis(\"req_1.seis\", S)"
   ]
  },
  {
   "cell_type": "markdown",
   "metadata": {},
   "source": [
    "SeisIO format can hold multiple structures in one file.\\\n",
    "So, to read from a SeisIO file, you'll need to specify\\\n",
    "one or more object numbers:"
   ]
  },
  {
   "cell_type": "code",
   "execution_count": null,
   "metadata": {},
   "outputs": [],
   "source": [
    "S2 = rseis(\"req_1.seis\")[1]"
   ]
  },
  {
   "cell_type": "code",
   "execution_count": null,
   "metadata": {},
   "outputs": [],
   "source": [
    "S == S2"
   ]
  },
  {
   "cell_type": "markdown",
   "metadata": {},
   "source": [
    "## **Data Request Syntax is Always the Same**\n",
    "\\\n",
    "NN.SSSSS.LL.CC (net.sta.loc.cha, separated by periods) is the expected syntax \\\n",
    "for all web functions. The maximum field width in characters corresponds to the \\\n",
    "length of each field (e.g. 2 for network). Fields can’t contain whitespace. \\\n",
    "\\\n",
    "Data requests in SeisIO all use this syntax, even though IRIS timeseries, \\\n",
    "FDSN dataselect, and SeedLink format strings differently. Request strings are \\\n",
    "converted to the appropriate syntax for the request protocol."
   ]
  },
  {
   "cell_type": "code",
   "execution_count": null,
   "metadata": {},
   "outputs": [],
   "source": [
    "# these are identical requests\n",
    "channels = \"UW.KMO.., IU.COR.00.BHZ, CC.LON..BH?\"                          # single String\n",
    "channels = [\"UW.KMO..\", \"IU.COR.00.BHZ\", \"CC.LON..BH?\"]                    # Vector{String}\n",
    "channels = [\"UW\" \"KMO\" \"\" \"\"; \"IU\" \"COR\" \"00\" \"BHZ\"; \"CC\" \"LON\" \"\" \"BH?\"]  # Matrix{String}"
   ]
  },
  {
   "cell_type": "code",
   "execution_count": null,
   "metadata": {},
   "outputs": [],
   "source": [
    "?chanspec"
   ]
  },
  {
   "cell_type": "markdown",
   "metadata": {},
   "source": [
    "See also: https://seisio.readthedocs.io/en/latest/src/Appendices/web_syntax.html"
   ]
  },
  {
   "cell_type": "markdown",
   "metadata": {},
   "source": [
    "## **Other Useful Data Acquisition Functions**\n",
    "* FDSNsta: request only station information\n",
    "* SeedLink: stream to a SeisData structure in the background\n",
    "* See also: SeisIO.Quake submodule"
   ]
  },
  {
   "cell_type": "markdown",
   "metadata": {},
   "source": [
    "### Streaming Data with Seedlink (Optional Section)\n",
    "SeedLink streams data to objects in the background. ]\n",
    "Here's a quick example:"
   ]
  },
  {
   "cell_type": "code",
   "execution_count": null,
   "metadata": {},
   "outputs": [],
   "source": [
    "channels = [\"UW.KMO..\", \"IU.COR.00.BH?\", \"CC.LON..BH?\", \"CC.VALT..???\", \"UW.ELK..EHZ\"]\n",
    "S3 = SeisData()\n",
    "SeedLink!(S3, channels)"
   ]
  },
  {
   "cell_type": "markdown",
   "metadata": {},
   "source": [
    "A `SeisData` object like `S3` has a field `:c` that tracks connections.\\\n",
    "When finished with a SeedLink session, close the corresponding connection\\\n",
    "in `S3.c`:"
   ]
  },
  {
   "cell_type": "code",
   "execution_count": null,
   "metadata": {},
   "outputs": [],
   "source": [
    "sleep(30)          # sleep 30 seconds; SeedLink doesn't engage immediately\n",
    "close(S3.c[1])     # close the SeedLink connection"
   ]
  },
  {
   "cell_type": "markdown",
   "metadata": {},
   "source": [
    "This ends the SeedLink session and processes all buffered data to the \\\n",
    "parent (`SeisData`) structure. You can see the details of the streaming \\\n",
    "process by engaging SeedLink with higher verbosity, but beware: `v=3`is \\\n",
    "for developer debugging and spams stdout, defeating the purpose of running \\\n",
    "SeedLink in the background."
   ]
  },
  {
   "cell_type": "code",
   "execution_count": null,
   "metadata": {},
   "outputs": [],
   "source": [
    "S3"
   ]
  },
  {
   "cell_type": "markdown",
   "metadata": {},
   "source": [
    "*Caution*: SeedLink requests appear to start with the first packet *after* \\\n",
    "the requested start time. If data need to start precisely at some time \\\n",
    "`t0`, start around a minute *earlier*, then sync to `t0` with the `sync!`\\\n",
    "command (to be covered in 3-Processing)."
   ]
  },
  {
   "cell_type": "markdown",
   "metadata": {},
   "source": [
    "## Cleanup (Optional Section)\n",
    "Let's remove these extraneous downloads. The creator of SeisIO used to \\\n",
    "receive regular automated warnings from his grad school SysAdmin \\\n",
    "for being the \\#1 \"disk hog\" and still feels bad about it. Sorry, Ed!"
   ]
  },
  {
   "cell_type": "code",
   "execution_count": null,
   "metadata": {},
   "outputs": [],
   "source": [
    "files = ls(\"*.SAC\")"
   ]
  },
  {
   "cell_type": "code",
   "execution_count": null,
   "metadata": {},
   "outputs": [],
   "source": [
    "for f in files\n",
    "    rm(f)\n",
    "end\n",
    "rm(\"req_1.pz\")"
   ]
  },
  {
   "cell_type": "code",
   "execution_count": null,
   "metadata": {},
   "outputs": [],
   "source": [
    "files = ls(\"*.mseed\")"
   ]
  },
  {
   "cell_type": "code",
   "execution_count": null,
   "metadata": {},
   "outputs": [],
   "source": [
    "for f in files\n",
    "    rm(f)\n",
    "end"
   ]
  },
  {
   "cell_type": "markdown",
   "metadata": {},
   "source": [
    "## **For More Help**\n",
    "Please consult the official SeisIO documentation:\n",
    "\n",
    "### **Reading files with `read_data`**\n",
    "https://seisio.readthedocs.io/en/latest/src/Formats/fileformats.html\n",
    " \n",
    "### **Web requests with `get_data`**\n",
    "https://seisio.readthedocs.io/en/latest/src/Web/webclients.html\n",
    "\n",
    "### **Streaming with `SeedLink`**\n",
    "https://seisio.readthedocs.io/en/latest/src/Web/seedlink.html\n",
    "\n",
    "## **Additional Examples**\n",
    "https://seisio.readthedocs.io/en/latest/src/Appendices/examples.html"
   ]
  },
  {
   "cell_type": "code",
   "execution_count": null,
   "metadata": {},
   "outputs": [],
   "source": []
  }
 ],
 "metadata": {
  "kernelspec": {
   "display_name": "Julia 1.1.0",
   "language": "julia",
   "name": "julia-1.1"
  },
  "language_info": {
   "file_extension": ".jl",
   "mimetype": "application/julia",
   "name": "julia",
   "version": "1.1.0"
  }
 },
 "nbformat": 4,
 "nbformat_minor": 4
}
